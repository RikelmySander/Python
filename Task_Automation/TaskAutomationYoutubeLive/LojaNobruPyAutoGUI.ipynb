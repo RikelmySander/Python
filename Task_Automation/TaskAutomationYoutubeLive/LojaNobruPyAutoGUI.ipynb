{
 "cells": [
  {
   "cell_type": "code",
   "execution_count": null,
   "id": "3e0b223d",
   "metadata": {},
   "outputs": [],
   "source": [
    "import pyautogui\n",
    "import pyperclip\n",
    "import time\n",
    "\n",
    "pyautogui.PAUSE = 1\n",
    "\n",
    "#Open youtube\n",
    "pyautogui.hotkey(\"ctrl\", \"t\")\n",
    "pyperclip.copy(\"https://www.youtube.com/\")\n",
    "pyautogui.hotkey(\"ctrl\", \"v\")\n",
    "pyautogui.press(\"enter\")\n",
    "time.sleep(3)\n",
    "\n",
    "#Researching live \n",
    "pyautogui.click(x=582, y=132)\n",
    "time.sleep(2)\n",
    "pyperclip.copy(\"Nobru live\")\n",
    "pyautogui.hotkey(\"ctrl\", \"v\")\n",
    "pyautogui.press(\"enter\")\n",
    "time.sleep(7)\n",
    "\n",
    "#Open live\n",
    "pyautogui.click(x=526, y=261)\n",
    "time.sleep(10)\n",
    "\n",
    "#Loop function, for typing in chat \n",
    "for _ in range(17):\n",
    "    pyautogui.click(x=1015, y=562)\n",
    "    pyperclip.copy(\"Salve nobru\")\n",
    "    pyautogui.hotkey(\"ctrl\", \"v\")\n",
    "    pyautogui.press(\"enter\")\n",
    "    time.sleep(1200)"
   ]
  },
  {
   "cell_type": "code",
   "execution_count": 2,
   "id": "a53a3525",
   "metadata": {},
   "outputs": [
    {
     "data": {
      "text/plain": [
       "Point(x=418, y=270)"
      ]
     },
     "execution_count": 2,
     "metadata": {},
     "output_type": "execute_result"
    }
   ],
   "source": [
    "#Getting the position of the clicks\n",
    "time.sleep(3)\n",
    "pyautogui.position()"
   ]
  },
  {
   "cell_type": "code",
   "execution_count": null,
   "id": "b1363b8e",
   "metadata": {},
   "outputs": [],
   "source": []
  }
 ],
 "metadata": {
  "kernelspec": {
   "display_name": "Python 3 (ipykernel)",
   "language": "python",
   "name": "python3"
  },
  "language_info": {
   "codemirror_mode": {
    "name": "ipython",
    "version": 3
   },
   "file_extension": ".py",
   "mimetype": "text/x-python",
   "name": "python",
   "nbconvert_exporter": "python",
   "pygments_lexer": "ipython3",
   "version": "3.9.12"
  },
  "widgets": {
   "application/vnd.jupyter.widget-state+json": {
    "state": {},
    "version_major": 2,
    "version_minor": 0
   }
  }
 },
 "nbformat": 4,
 "nbformat_minor": 5
}
